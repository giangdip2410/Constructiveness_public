{
 "cells": [
  {
   "cell_type": "code",
   "execution_count": 1,
   "metadata": {},
   "outputs": [],
   "source": [
    "import pandas as pd\n",
    "import sys\n",
    "#sys.path.append('../modeling/')\n",
    "#from svm_constructiveness_classification import ConstructivenessClassifier\n",
    "sys.path.append('../../')\n",
    "from config import Config\n",
    "from experiments_utils import *"
   ]
  },
  {
   "cell_type": "code",
   "execution_count": 2,
   "metadata": {},
   "outputs": [],
   "source": [
    "training_feats_file = Config.TRAIN_PATH + 'SOCC_nyt_ync_features.csv'"
   ]
  },
  {
   "cell_type": "code",
   "execution_count": 3,
   "metadata": {},
   "outputs": [],
   "source": [
    "training_feats_df = pd.read_csv(training_feats_file)"
   ]
  },
  {
   "cell_type": "code",
   "execution_count": 4,
   "metadata": {},
   "outputs": [],
   "source": [
    "data_sources = ['SOCC', \n",
    "                #'NYTPicks+YNACC', \n",
    "                #'SOCC+NYTPicks+YNACC', \n",
    "                #'SOCC+NYTPicks'\n",
    "               ]        "
   ]
  },
  {
   "cell_type": "code",
   "execution_count": 11,
   "metadata": {},
   "outputs": [
    {
     "name": "stdout",
     "output_type": "stream",
     "text": [
      "Data source:  SOCC\n",
      "Size of the training data:  12000 \tConcstructive ( 5906 ) \tNon concstructive ( 6094 )\n",
      "plot learning cures:  \n",
      "Show the plots\n"
     ]
    },
    {
     "data": {
      "image/png": "[encoded data removed]",
      "text/plain": [
       "<matplotlib.figure.Figure at 0x7f6e4c50aac8>"
      ]
     },
     "metadata": {},
     "output_type": "display_data"
    },
    {
     "name": "stdout",
     "output_type": "stream",
     "text": [
      "\n",
      "----------------------------\n",
      "\n"
     ]
    }
   ],
   "source": [
    "for data_source in data_sources:\n",
    "    print('Data source: ', data_source) \n",
    "    sources = data_source.split('+')\n",
    "\n",
    "    if data_source.startswith('SOCC+NYTPicks'):\n",
    "        # sample negative examples from SOCC and the same number of +ve examples from NYTPicks\n",
    "        subset_df = training_feats_df[training_feats_df['source'].isin(sources)]\n",
    "        SOCC_neg_df = subset_df[(subset_df['source'] == 'SOCC') & (subset_df['constructive'] == 0)]\n",
    "        NYTPicks_df = subset_df[(subset_df['source'] == 'NYTPicks')]                        \n",
    "        NYTPicks_df_sample = NYTPicks_df.sample(n = SOCC_neg_df.shape[0])\n",
    "        train_df = pd.concat([SOCC_neg_df, NYTPicks_df_sample])    \n",
    "    else:             \n",
    "        train_df = training_feats_df[training_feats_df['source'].isin(sources)]        \n",
    "\n",
    "    feature_set = [\n",
    "                   'text_feats',\n",
    "                   'argumentation_feats',\n",
    "                   'COMMENTIQ_feats',\n",
    "                   'named_entity_feats',\n",
    "                   'constructiveness_chars_feats', \n",
    "                   'non_constructiveness_chars_feats']\n",
    "    #print('Cross-validation results: ', run_cross_validation_experiments(train_df, feature_set))\n",
    "    save_path = data_source + '.png'\n",
    "    run_training_size_experiments(train_df, feature_set, save_path)\n",
    "\n",
    "    print('\\n----------------------------\\n')          "
   ]
  },
  {
   "cell_type": "code",
   "execution_count": null,
   "metadata": {},
   "outputs": [],
   "source": []
  },
  {
   "cell_type": "code",
   "execution_count": null,
   "metadata": {},
   "outputs": [],
   "source": []
  },
  {
   "cell_type": "code",
   "execution_count": null,
   "metadata": {},
   "outputs": [],
   "source": []
  },
  {
   "cell_type": "code",
   "execution_count": null,
   "metadata": {},
   "outputs": [],
   "source": []
  }
 ],
 "metadata": {
  "kernelspec": {
   "display_name": "Python 3",
   "language": "python",
   "name": "python3"
  },
  "language_info": {
   "codemirror_mode": {
    "name": "ipython",
    "version": 3
   },
   "file_extension": ".py",
   "mimetype": "text/x-python",
   "name": "python",
   "nbconvert_exporter": "python",
   "pygments_lexer": "ipython3",
   "version": "3.5.4"
  }
 },
 "nbformat": 4,
 "nbformat_minor": 2
}
