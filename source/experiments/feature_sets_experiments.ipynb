{
 "cells": [
  {
   "cell_type": "code",
   "execution_count": 1,
   "metadata": {},
   "outputs": [],
   "source": [
    "import pandas as pd\n",
    "import sys\n",
    "sys.path.append('../../')\n",
    "from config import Config\n",
    "from experiments_utils import *"
   ]
  },
  {
   "cell_type": "markdown",
   "metadata": {},
   "source": [
    "# Experiments with feature sets "
   ]
  },
  {
   "cell_type": "markdown",
   "metadata": {},
   "source": [
    "# Find correlation of each feature column with the target column "
   ]
  },
  {
   "cell_type": "code",
   "execution_count": 2,
   "metadata": {},
   "outputs": [],
   "source": [
    "training_feats_file = Config.ALL_FEATURES_FILE_PATH\n",
    "training_feats_df = pd.read_csv(training_feats_file)\n",
    "SOCC_df = training_feats_df[training_feats_df['source'].isin(['SOCC'])]"
   ]
  },
  {
   "cell_type": "code",
   "execution_count": 3,
   "metadata": {},
   "outputs": [],
   "source": [
    "annotation_cols = ['constructive']\n",
    "annotation_df = SOCC_df[annotation_cols]"
   ]
  },
  {
   "cell_type": "markdown",
   "metadata": {},
   "source": [
    "# Correlation with length features"
   ]
  },
  {
   "cell_type": "code",
   "execution_count": 4,
   "metadata": {},
   "outputs": [],
   "source": [
    "length_feats_cols = ['length',\n",
    "                      'average_word_length',\n",
    "                      'nSents', \n",
    "                      'avg_words_per_sent'\n",
    "                     ]"
   ]
  },
  {
   "cell_type": "code",
   "execution_count": 5,
   "metadata": {},
   "outputs": [
    {
     "data": {
      "text/html": [
       "<div>\n",
       "<style scoped>\n",
       "    .dataframe tbody tr th:only-of-type {\n",
       "        vertical-align: middle;\n",
       "    }\n",
       "\n",
       "    .dataframe tbody tr th {\n",
       "        vertical-align: top;\n",
       "    }\n",
       "\n",
       "    .dataframe thead th {\n",
       "        text-align: right;\n",
       "    }\n",
       "</style>\n",
       "<table border=\"1\" class=\"dataframe\">\n",
       "  <thead>\n",
       "    <tr style=\"text-align: right;\">\n",
       "      <th></th>\n",
       "      <th>constructive</th>\n",
       "    </tr>\n",
       "  </thead>\n",
       "  <tbody>\n",
       "    <tr>\n",
       "      <th>length</th>\n",
       "      <td>0.622955</td>\n",
       "    </tr>\n",
       "    <tr>\n",
       "      <th>average_word_length</th>\n",
       "      <td>-0.041142</td>\n",
       "    </tr>\n",
       "    <tr>\n",
       "      <th>nSents</th>\n",
       "      <td>0.533597</td>\n",
       "    </tr>\n",
       "    <tr>\n",
       "      <th>avg_words_per_sent</th>\n",
       "      <td>0.350866</td>\n",
       "    </tr>\n",
       "    <tr>\n",
       "      <th>constructive</th>\n",
       "      <td>1.000000</td>\n",
       "    </tr>\n",
       "  </tbody>\n",
       "</table>\n",
       "</div>"
      ],
      "text/plain": [
       "                     constructive\n",
       "length                   0.622955\n",
       "average_word_length     -0.041142\n",
       "nSents                   0.533597\n",
       "avg_words_per_sent       0.350866\n",
       "constructive             1.000000"
      ]
     },
     "execution_count": 5,
     "metadata": {},
     "output_type": "execute_result"
    }
   ],
   "source": [
    "get_corr_df(SOCC_df, length_feats_cols, annotation_cols)"
   ]
  },
  {
   "cell_type": "markdown",
   "metadata": {},
   "source": [
    "# Correlation with argumentation features"
   ]
  },
  {
   "cell_type": "code",
   "execution_count": 6,
   "metadata": {},
   "outputs": [],
   "source": [
    "argumentation_feats_cols = ['has_conjunctions_and_connectives',\n",
    "                            'has_stance_adverbials', \n",
    "                            'has_reasoning_verbs', \n",
    "                            'has_modals', \n",
    "                            'has_shell_nouns']"
   ]
  },
  {
   "cell_type": "code",
   "execution_count": 7,
   "metadata": {},
   "outputs": [
    {
     "data": {
      "text/html": [
       "<div>\n",
       "<style scoped>\n",
       "    .dataframe tbody tr th:only-of-type {\n",
       "        vertical-align: middle;\n",
       "    }\n",
       "\n",
       "    .dataframe tbody tr th {\n",
       "        vertical-align: top;\n",
       "    }\n",
       "\n",
       "    .dataframe thead th {\n",
       "        text-align: right;\n",
       "    }\n",
       "</style>\n",
       "<table border=\"1\" class=\"dataframe\">\n",
       "  <thead>\n",
       "    <tr style=\"text-align: right;\">\n",
       "      <th></th>\n",
       "      <th>constructive</th>\n",
       "    </tr>\n",
       "  </thead>\n",
       "  <tbody>\n",
       "    <tr>\n",
       "      <th>has_conjunctions_and_connectives</th>\n",
       "      <td>0.246693</td>\n",
       "    </tr>\n",
       "    <tr>\n",
       "      <th>has_stance_adverbials</th>\n",
       "      <td>0.304450</td>\n",
       "    </tr>\n",
       "    <tr>\n",
       "      <th>has_reasoning_verbs</th>\n",
       "      <td>0.386248</td>\n",
       "    </tr>\n",
       "    <tr>\n",
       "      <th>has_modals</th>\n",
       "      <td>0.414188</td>\n",
       "    </tr>\n",
       "    <tr>\n",
       "      <th>has_shell_nouns</th>\n",
       "      <td>0.331579</td>\n",
       "    </tr>\n",
       "    <tr>\n",
       "      <th>constructive</th>\n",
       "      <td>1.000000</td>\n",
       "    </tr>\n",
       "  </tbody>\n",
       "</table>\n",
       "</div>"
      ],
      "text/plain": [
       "                                  constructive\n",
       "has_conjunctions_and_connectives      0.246693\n",
       "has_stance_adverbials                 0.304450\n",
       "has_reasoning_verbs                   0.386248\n",
       "has_modals                            0.414188\n",
       "has_shell_nouns                       0.331579\n",
       "constructive                          1.000000"
      ]
     },
     "execution_count": 7,
     "metadata": {},
     "output_type": "execute_result"
    }
   ],
   "source": [
    "get_corr_df(SOCC_df, argumentation_feats_cols, annotation_cols)"
   ]
  },
  {
   "cell_type": "markdown",
   "metadata": {},
   "source": [
    "# Correlation with COMMENTIQ features"
   ]
  },
  {
   "cell_type": "code",
   "execution_count": 8,
   "metadata": {},
   "outputs": [],
   "source": [
    "COMMENTIQ_feats_cols = ['readability_score', \n",
    "                        'personal_exp_score']                                     "
   ]
  },
  {
   "cell_type": "code",
   "execution_count": 9,
   "metadata": {},
   "outputs": [
    {
     "data": {
      "text/html": [
       "<div>\n",
       "<style scoped>\n",
       "    .dataframe tbody tr th:only-of-type {\n",
       "        vertical-align: middle;\n",
       "    }\n",
       "\n",
       "    .dataframe tbody tr th {\n",
       "        vertical-align: top;\n",
       "    }\n",
       "\n",
       "    .dataframe thead th {\n",
       "        text-align: right;\n",
       "    }\n",
       "</style>\n",
       "<table border=\"1\" class=\"dataframe\">\n",
       "  <thead>\n",
       "    <tr style=\"text-align: right;\">\n",
       "      <th></th>\n",
       "      <th>constructive</th>\n",
       "    </tr>\n",
       "  </thead>\n",
       "  <tbody>\n",
       "    <tr>\n",
       "      <th>readability_score</th>\n",
       "      <td>0.721989</td>\n",
       "    </tr>\n",
       "    <tr>\n",
       "      <th>personal_exp_score</th>\n",
       "      <td>-0.025497</td>\n",
       "    </tr>\n",
       "    <tr>\n",
       "      <th>constructive</th>\n",
       "      <td>1.000000</td>\n",
       "    </tr>\n",
       "  </tbody>\n",
       "</table>\n",
       "</div>"
      ],
      "text/plain": [
       "                    constructive\n",
       "readability_score       0.721989\n",
       "personal_exp_score     -0.025497\n",
       "constructive            1.000000"
      ]
     },
     "execution_count": 9,
     "metadata": {},
     "output_type": "execute_result"
    }
   ],
   "source": [
    "get_corr_df(SOCC_df, COMMENTIQ_feats_cols, annotation_cols)"
   ]
  },
  {
   "cell_type": "markdown",
   "metadata": {},
   "source": [
    "# Correlation with named-entity features"
   ]
  },
  {
   "cell_type": "code",
   "execution_count": 10,
   "metadata": {},
   "outputs": [],
   "source": [
    "named_entity_feats_cols = ['named_entity_count']"
   ]
  },
  {
   "cell_type": "code",
   "execution_count": 11,
   "metadata": {},
   "outputs": [
    {
     "data": {
      "text/html": [
       "<div>\n",
       "<style scoped>\n",
       "    .dataframe tbody tr th:only-of-type {\n",
       "        vertical-align: middle;\n",
       "    }\n",
       "\n",
       "    .dataframe tbody tr th {\n",
       "        vertical-align: top;\n",
       "    }\n",
       "\n",
       "    .dataframe thead th {\n",
       "        text-align: right;\n",
       "    }\n",
       "</style>\n",
       "<table border=\"1\" class=\"dataframe\">\n",
       "  <thead>\n",
       "    <tr style=\"text-align: right;\">\n",
       "      <th></th>\n",
       "      <th>constructive</th>\n",
       "    </tr>\n",
       "  </thead>\n",
       "  <tbody>\n",
       "    <tr>\n",
       "      <th>named_entity_count</th>\n",
       "      <td>0.52895</td>\n",
       "    </tr>\n",
       "    <tr>\n",
       "      <th>constructive</th>\n",
       "      <td>1.00000</td>\n",
       "    </tr>\n",
       "  </tbody>\n",
       "</table>\n",
       "</div>"
      ],
      "text/plain": [
       "                    constructive\n",
       "named_entity_count       0.52895\n",
       "constructive             1.00000"
      ]
     },
     "execution_count": 11,
     "metadata": {},
     "output_type": "execute_result"
    }
   ],
   "source": [
    "get_corr_df(SOCC_df, named_entity_feats_cols, annotation_cols)"
   ]
  },
  {
   "cell_type": "markdown",
   "metadata": {},
   "source": [
    "# Correlation with crowd-annotated constructiveness characteristics"
   ]
  },
  {
   "cell_type": "code",
   "execution_count": 12,
   "metadata": {},
   "outputs": [],
   "source": [
    "constructiveness_chars_feats_cols = ['specific_points', \n",
    "                                     'dialogue', \n",
    "                                     'evidence', \n",
    "                                     'personal_story', \n",
    "                                     'solution', \n",
    "                                     'no_con']"
   ]
  },
  {
   "cell_type": "code",
   "execution_count": 13,
   "metadata": {},
   "outputs": [
    {
     "data": {
      "text/html": [
       "<div>\n",
       "<style scoped>\n",
       "    .dataframe tbody tr th:only-of-type {\n",
       "        vertical-align: middle;\n",
       "    }\n",
       "\n",
       "    .dataframe tbody tr th {\n",
       "        vertical-align: top;\n",
       "    }\n",
       "\n",
       "    .dataframe thead th {\n",
       "        text-align: right;\n",
       "    }\n",
       "</style>\n",
       "<table border=\"1\" class=\"dataframe\">\n",
       "  <thead>\n",
       "    <tr style=\"text-align: right;\">\n",
       "      <th></th>\n",
       "      <th>constructive</th>\n",
       "    </tr>\n",
       "  </thead>\n",
       "  <tbody>\n",
       "    <tr>\n",
       "      <th>specific_points</th>\n",
       "      <td>0.430854</td>\n",
       "    </tr>\n",
       "    <tr>\n",
       "      <th>dialogue</th>\n",
       "      <td>0.416232</td>\n",
       "    </tr>\n",
       "    <tr>\n",
       "      <th>evidence</th>\n",
       "      <td>0.348249</td>\n",
       "    </tr>\n",
       "    <tr>\n",
       "      <th>personal_story</th>\n",
       "      <td>0.192803</td>\n",
       "    </tr>\n",
       "    <tr>\n",
       "      <th>solution</th>\n",
       "      <td>0.400866</td>\n",
       "    </tr>\n",
       "    <tr>\n",
       "      <th>no_con</th>\n",
       "      <td>-0.642889</td>\n",
       "    </tr>\n",
       "    <tr>\n",
       "      <th>constructive</th>\n",
       "      <td>1.000000</td>\n",
       "    </tr>\n",
       "  </tbody>\n",
       "</table>\n",
       "</div>"
      ],
      "text/plain": [
       "                 constructive\n",
       "specific_points      0.430854\n",
       "dialogue             0.416232\n",
       "evidence             0.348249\n",
       "personal_story       0.192803\n",
       "solution             0.400866\n",
       "no_con              -0.642889\n",
       "constructive         1.000000"
      ]
     },
     "execution_count": 13,
     "metadata": {},
     "output_type": "execute_result"
    }
   ],
   "source": [
    "get_corr_df(SOCC_df, constructiveness_chars_feats_cols, annotation_cols)"
   ]
  },
  {
   "cell_type": "markdown",
   "metadata": {},
   "source": [
    "# Correlation with crowd-annotated non-constructiveness characteristics"
   ]
  },
  {
   "cell_type": "code",
   "execution_count": 14,
   "metadata": {},
   "outputs": [],
   "source": [
    "non_constructiveness_chars_feats = ['no_respect', \n",
    "                                    'provocative', \n",
    "                                    'sarcastic', \n",
    "                                    'non_relevant', \n",
    "                                    'unsubstantial', \n",
    "                                    'no_non_con']"
   ]
  },
  {
   "cell_type": "code",
   "execution_count": 15,
   "metadata": {},
   "outputs": [
    {
     "data": {
      "text/html": [
       "<div>\n",
       "<style scoped>\n",
       "    .dataframe tbody tr th:only-of-type {\n",
       "        vertical-align: middle;\n",
       "    }\n",
       "\n",
       "    .dataframe tbody tr th {\n",
       "        vertical-align: top;\n",
       "    }\n",
       "\n",
       "    .dataframe thead th {\n",
       "        text-align: right;\n",
       "    }\n",
       "</style>\n",
       "<table border=\"1\" class=\"dataframe\">\n",
       "  <thead>\n",
       "    <tr style=\"text-align: right;\">\n",
       "      <th></th>\n",
       "      <th>constructive</th>\n",
       "    </tr>\n",
       "  </thead>\n",
       "  <tbody>\n",
       "    <tr>\n",
       "      <th>no_respect</th>\n",
       "      <td>-0.246790</td>\n",
       "    </tr>\n",
       "    <tr>\n",
       "      <th>provocative</th>\n",
       "      <td>-0.120312</td>\n",
       "    </tr>\n",
       "    <tr>\n",
       "      <th>sarcastic</th>\n",
       "      <td>-0.097141</td>\n",
       "    </tr>\n",
       "    <tr>\n",
       "      <th>non_relevant</th>\n",
       "      <td>-0.430287</td>\n",
       "    </tr>\n",
       "    <tr>\n",
       "      <th>unsubstantial</th>\n",
       "      <td>-0.465158</td>\n",
       "    </tr>\n",
       "    <tr>\n",
       "      <th>no_non_con</th>\n",
       "      <td>0.288171</td>\n",
       "    </tr>\n",
       "    <tr>\n",
       "      <th>constructive</th>\n",
       "      <td>1.000000</td>\n",
       "    </tr>\n",
       "  </tbody>\n",
       "</table>\n",
       "</div>"
      ],
      "text/plain": [
       "               constructive\n",
       "no_respect        -0.246790\n",
       "provocative       -0.120312\n",
       "sarcastic         -0.097141\n",
       "non_relevant      -0.430287\n",
       "unsubstantial     -0.465158\n",
       "no_non_con         0.288171\n",
       "constructive       1.000000"
      ]
     },
     "execution_count": 15,
     "metadata": {},
     "output_type": "execute_result"
    }
   ],
   "source": [
    "get_corr_df(SOCC_df, non_constructiveness_chars_feats, annotation_cols)"
   ]
  },
  {
   "cell_type": "markdown",
   "metadata": {},
   "source": [
    "# Correlation with crowd-annotated toxicity characteristics"
   ]
  },
  {
   "cell_type": "code",
   "execution_count": 16,
   "metadata": {},
   "outputs": [],
   "source": [
    "toxicity_chars_feats = ['personal_attack', \n",
    "                        'teasing', \n",
    "                        'abusive', \n",
    "                        'embarrassment', \n",
    "                        'inflammatory', \n",
    "                        'no_toxic']"
   ]
  },
  {
   "cell_type": "code",
   "execution_count": 17,
   "metadata": {},
   "outputs": [
    {
     "data": {
      "text/html": [
       "<div>\n",
       "<style scoped>\n",
       "    .dataframe tbody tr th:only-of-type {\n",
       "        vertical-align: middle;\n",
       "    }\n",
       "\n",
       "    .dataframe tbody tr th {\n",
       "        vertical-align: top;\n",
       "    }\n",
       "\n",
       "    .dataframe thead th {\n",
       "        text-align: right;\n",
       "    }\n",
       "</style>\n",
       "<table border=\"1\" class=\"dataframe\">\n",
       "  <thead>\n",
       "    <tr style=\"text-align: right;\">\n",
       "      <th></th>\n",
       "      <th>constructive</th>\n",
       "    </tr>\n",
       "  </thead>\n",
       "  <tbody>\n",
       "    <tr>\n",
       "      <th>personal_attack</th>\n",
       "      <td>-0.032756</td>\n",
       "    </tr>\n",
       "    <tr>\n",
       "      <th>teasing</th>\n",
       "      <td>-0.042614</td>\n",
       "    </tr>\n",
       "    <tr>\n",
       "      <th>abusive</th>\n",
       "      <td>-0.037423</td>\n",
       "    </tr>\n",
       "    <tr>\n",
       "      <th>embarrassment</th>\n",
       "      <td>-0.008899</td>\n",
       "    </tr>\n",
       "    <tr>\n",
       "      <th>inflammatory</th>\n",
       "      <td>-0.010750</td>\n",
       "    </tr>\n",
       "    <tr>\n",
       "      <th>no_toxic</th>\n",
       "      <td>0.032251</td>\n",
       "    </tr>\n",
       "    <tr>\n",
       "      <th>constructive</th>\n",
       "      <td>1.000000</td>\n",
       "    </tr>\n",
       "  </tbody>\n",
       "</table>\n",
       "</div>"
      ],
      "text/plain": [
       "                 constructive\n",
       "personal_attack     -0.032756\n",
       "teasing             -0.042614\n",
       "abusive             -0.037423\n",
       "embarrassment       -0.008899\n",
       "inflammatory        -0.010750\n",
       "no_toxic             0.032251\n",
       "constructive         1.000000"
      ]
     },
     "execution_count": 17,
     "metadata": {},
     "output_type": "execute_result"
    }
   ],
   "source": [
    "get_corr_df(SOCC_df, toxicity_chars_feats, annotation_cols)"
   ]
  },
  {
   "cell_type": "markdown",
   "metadata": {},
   "source": [
    "# Correlation with perspective content value features"
   ]
  },
  {
   "cell_type": "code",
   "execution_count": 18,
   "metadata": {},
   "outputs": [],
   "source": [
    "            \n",
    "perspective_content_value_feats = ['OFF_TOPIC:probability', \n",
    "                                   'SPAM:probability',\n",
    "                                   'UNSUBSTANTIAL:probability',\n",
    "                                   'INCOHERENT:probability'\n",
    "                                  ]"
   ]
  },
  {
   "cell_type": "code",
   "execution_count": 19,
   "metadata": {},
   "outputs": [
    {
     "data": {
      "text/html": [
       "<div>\n",
       "<style scoped>\n",
       "    .dataframe tbody tr th:only-of-type {\n",
       "        vertical-align: middle;\n",
       "    }\n",
       "\n",
       "    .dataframe tbody tr th {\n",
       "        vertical-align: top;\n",
       "    }\n",
       "\n",
       "    .dataframe thead th {\n",
       "        text-align: right;\n",
       "    }\n",
       "</style>\n",
       "<table border=\"1\" class=\"dataframe\">\n",
       "  <thead>\n",
       "    <tr style=\"text-align: right;\">\n",
       "      <th></th>\n",
       "      <th>constructive</th>\n",
       "    </tr>\n",
       "  </thead>\n",
       "  <tbody>\n",
       "    <tr>\n",
       "      <th>OFF_TOPIC:probability</th>\n",
       "      <td>-0.291174</td>\n",
       "    </tr>\n",
       "    <tr>\n",
       "      <th>SPAM:probability</th>\n",
       "      <td>0.060843</td>\n",
       "    </tr>\n",
       "    <tr>\n",
       "      <th>UNSUBSTANTIAL:probability</th>\n",
       "      <td>-0.737758</td>\n",
       "    </tr>\n",
       "    <tr>\n",
       "      <th>INCOHERENT:probability</th>\n",
       "      <td>-0.147813</td>\n",
       "    </tr>\n",
       "    <tr>\n",
       "      <th>constructive</th>\n",
       "      <td>1.000000</td>\n",
       "    </tr>\n",
       "  </tbody>\n",
       "</table>\n",
       "</div>"
      ],
      "text/plain": [
       "                           constructive\n",
       "OFF_TOPIC:probability         -0.291174\n",
       "SPAM:probability               0.060843\n",
       "UNSUBSTANTIAL:probability     -0.737758\n",
       "INCOHERENT:probability        -0.147813\n",
       "constructive                   1.000000"
      ]
     },
     "execution_count": 19,
     "metadata": {},
     "output_type": "execute_result"
    }
   ],
   "source": [
    "get_corr_df(SOCC_df, perspective_content_value_feats, annotation_cols)"
   ]
  },
  {
   "cell_type": "markdown",
   "metadata": {},
   "source": [
    "# Correlation with perspective agressiveness features"
   ]
  },
  {
   "cell_type": "code",
   "execution_count": 20,
   "metadata": {},
   "outputs": [],
   "source": [
    "perspective_aggressiveness_feats = ['ATTACK_ON_AUTHOR:probability',\n",
    "            'ATTACK_ON_COMMENTER:probability', 'ATTACK_ON_PUBLISHER:probability',\n",
    "    \n",
    "]"
   ]
  },
  {
   "cell_type": "code",
   "execution_count": 21,
   "metadata": {},
   "outputs": [
    {
     "data": {
      "text/html": [
       "<div>\n",
       "<style scoped>\n",
       "    .dataframe tbody tr th:only-of-type {\n",
       "        vertical-align: middle;\n",
       "    }\n",
       "\n",
       "    .dataframe tbody tr th {\n",
       "        vertical-align: top;\n",
       "    }\n",
       "\n",
       "    .dataframe thead th {\n",
       "        text-align: right;\n",
       "    }\n",
       "</style>\n",
       "<table border=\"1\" class=\"dataframe\">\n",
       "  <thead>\n",
       "    <tr style=\"text-align: right;\">\n",
       "      <th></th>\n",
       "      <th>constructive</th>\n",
       "    </tr>\n",
       "  </thead>\n",
       "  <tbody>\n",
       "    <tr>\n",
       "      <th>ATTACK_ON_AUTHOR:probability</th>\n",
       "      <td>-0.060131</td>\n",
       "    </tr>\n",
       "    <tr>\n",
       "      <th>ATTACK_ON_COMMENTER:probability</th>\n",
       "      <td>-0.240236</td>\n",
       "    </tr>\n",
       "    <tr>\n",
       "      <th>ATTACK_ON_PUBLISHER:probability</th>\n",
       "      <td>-0.083863</td>\n",
       "    </tr>\n",
       "    <tr>\n",
       "      <th>constructive</th>\n",
       "      <td>1.000000</td>\n",
       "    </tr>\n",
       "  </tbody>\n",
       "</table>\n",
       "</div>"
      ],
      "text/plain": [
       "                                 constructive\n",
       "ATTACK_ON_AUTHOR:probability        -0.060131\n",
       "ATTACK_ON_COMMENTER:probability     -0.240236\n",
       "ATTACK_ON_PUBLISHER:probability     -0.083863\n",
       "constructive                         1.000000"
      ]
     },
     "execution_count": 21,
     "metadata": {},
     "output_type": "execute_result"
    }
   ],
   "source": [
    "get_corr_df(SOCC_df, perspective_aggressiveness_feats, annotation_cols)"
   ]
  },
  {
   "cell_type": "markdown",
   "metadata": {},
   "source": [
    "# Correlation with perspective toxicity features"
   ]
  },
  {
   "cell_type": "code",
   "execution_count": 22,
   "metadata": {},
   "outputs": [],
   "source": [
    "perspecitive_toxicity_feats = ['SEVERE_TOXICITY:probability', \n",
    "                               'SEXUALLY_EXPLICIT:probability',\n",
    "                               'TOXICITY:probability', \n",
    "                               'TOXICITY_IDENTITY_HATE:probability',\n",
    "                               'TOXICITY_INSULT:probability',\n",
    "                               'TOXICITY_OBSCENE:probability',\n",
    "                               'TOXICITY_THREAT:probability', \n",
    "                               'INFLAMMATORY:probability',\n",
    "                               'LIKELY_TO_REJECT:probability', \n",
    "                               'OBSCENE:probability',\n",
    "                              ]"
   ]
  },
  {
   "cell_type": "code",
   "execution_count": 23,
   "metadata": {},
   "outputs": [
    {
     "data": {
      "text/html": [
       "<div>\n",
       "<style scoped>\n",
       "    .dataframe tbody tr th:only-of-type {\n",
       "        vertical-align: middle;\n",
       "    }\n",
       "\n",
       "    .dataframe tbody tr th {\n",
       "        vertical-align: top;\n",
       "    }\n",
       "\n",
       "    .dataframe thead th {\n",
       "        text-align: right;\n",
       "    }\n",
       "</style>\n",
       "<table border=\"1\" class=\"dataframe\">\n",
       "  <thead>\n",
       "    <tr style=\"text-align: right;\">\n",
       "      <th></th>\n",
       "      <th>constructive</th>\n",
       "    </tr>\n",
       "  </thead>\n",
       "  <tbody>\n",
       "    <tr>\n",
       "      <th>SEVERE_TOXICITY:probability</th>\n",
       "      <td>-0.031688</td>\n",
       "    </tr>\n",
       "    <tr>\n",
       "      <th>SEXUALLY_EXPLICIT:probability</th>\n",
       "      <td>0.061247</td>\n",
       "    </tr>\n",
       "    <tr>\n",
       "      <th>TOXICITY:probability</th>\n",
       "      <td>-0.026158</td>\n",
       "    </tr>\n",
       "    <tr>\n",
       "      <th>TOXICITY_IDENTITY_HATE:probability</th>\n",
       "      <td>0.205361</td>\n",
       "    </tr>\n",
       "    <tr>\n",
       "      <th>TOXICITY_INSULT:probability</th>\n",
       "      <td>0.015615</td>\n",
       "    </tr>\n",
       "    <tr>\n",
       "      <th>TOXICITY_OBSCENE:probability</th>\n",
       "      <td>-0.007402</td>\n",
       "    </tr>\n",
       "    <tr>\n",
       "      <th>TOXICITY_THREAT:probability</th>\n",
       "      <td>0.139481</td>\n",
       "    </tr>\n",
       "    <tr>\n",
       "      <th>INFLAMMATORY:probability</th>\n",
       "      <td>-0.091781</td>\n",
       "    </tr>\n",
       "    <tr>\n",
       "      <th>LIKELY_TO_REJECT:probability</th>\n",
       "      <td>-0.386832</td>\n",
       "    </tr>\n",
       "    <tr>\n",
       "      <th>OBSCENE:probability</th>\n",
       "      <td>-0.044699</td>\n",
       "    </tr>\n",
       "    <tr>\n",
       "      <th>constructive</th>\n",
       "      <td>1.000000</td>\n",
       "    </tr>\n",
       "  </tbody>\n",
       "</table>\n",
       "</div>"
      ],
      "text/plain": [
       "                                    constructive\n",
       "SEVERE_TOXICITY:probability            -0.031688\n",
       "SEXUALLY_EXPLICIT:probability           0.061247\n",
       "TOXICITY:probability                   -0.026158\n",
       "TOXICITY_IDENTITY_HATE:probability      0.205361\n",
       "TOXICITY_INSULT:probability             0.015615\n",
       "TOXICITY_OBSCENE:probability           -0.007402\n",
       "TOXICITY_THREAT:probability             0.139481\n",
       "INFLAMMATORY:probability               -0.091781\n",
       "LIKELY_TO_REJECT:probability           -0.386832\n",
       "OBSCENE:probability                    -0.044699\n",
       "constructive                            1.000000"
      ]
     },
     "execution_count": 23,
     "metadata": {},
     "output_type": "execute_result"
    }
   ],
   "source": [
    "get_corr_df(SOCC_df, perspecitive_toxicity_feats, annotation_cols)"
   ]
  },
  {
   "cell_type": "markdown",
   "metadata": {},
   "source": [
    "# Length features experiments"
   ]
  },
  {
   "cell_type": "code",
   "execution_count": 24,
   "metadata": {},
   "outputs": [],
   "source": [
    "MIN_LEN = 35\n",
    "MAX_LEN = 65"
   ]
  },
  {
   "cell_type": "code",
   "execution_count": 25,
   "metadata": {},
   "outputs": [
    {
     "name": "stderr",
     "output_type": "stream",
     "text": [
      "/home/vkolhatk/anaconda3/envs/py35/lib/python3.5/site-packages/ipykernel_launcher.py:1: SettingWithCopyWarning: \n",
      "A value is trying to be set on a copy of a slice from a DataFrame.\n",
      "Try using .loc[row_indexer,col_indexer] = value instead\n",
      "\n",
      "See the caveats in the documentation: http://pandas.pydata.org/pandas-docs/stable/indexing.html#indexing-view-versus-copy\n",
      "  \"\"\"Entry point for launching an IPython kernel.\n"
     ]
    }
   ],
   "source": [
    "SOCC_df['comment_len'] = SOCC_df['pp_comment_text'].apply(lambda x: len(x.split()))"
   ]
  },
  {
   "cell_type": "code",
   "execution_count": 26,
   "metadata": {},
   "outputs": [],
   "source": [
    "SOCC_df_subset = SOCC_df[ (SOCC_df['comment_len'] > MIN_LEN) & (SOCC_df['comment_len'] < MAX_LEN)]"
   ]
  },
  {
   "cell_type": "code",
   "execution_count": 27,
   "metadata": {},
   "outputs": [
    {
     "data": {
      "text/plain": [
       "(2701, 53)"
      ]
     },
     "execution_count": 27,
     "metadata": {},
     "output_type": "execute_result"
    }
   ],
   "source": [
    "SOCC_df_subset.shape"
   ]
  },
  {
   "cell_type": "code",
   "execution_count": 28,
   "metadata": {},
   "outputs": [
    {
     "data": {
      "text/plain": [
       "0    1436\n",
       "1    1265\n",
       "Name: constructive, dtype: int64"
      ]
     },
     "execution_count": 28,
     "metadata": {},
     "output_type": "execute_result"
    }
   ],
   "source": [
    "SOCC_df_subset['constructive'].value_counts()"
   ]
  },
  {
   "cell_type": "code",
   "execution_count": 29,
   "metadata": {},
   "outputs": [
    {
     "name": "stdout",
     "output_type": "stream",
     "text": [
      "Size of the training data:  2701 \tConstructive ( 1265 ) \tNon constructive ( 1436 )\n",
      "Cross validation folds:  10\n",
      "Classifier:  SGDClassifier(alpha=0.001, average=False, class_weight=None, epsilon=0.1,\n",
      "       eta0=0.0, fit_intercept=True, l1_ratio=0.15,\n",
      "       learning_rate='optimal', loss='hinge', max_iter=50, n_iter=None,\n",
      "       n_jobs=1, penalty='l2', power_t=0.5, random_state=42, shuffle=True,\n",
      "       tol=0.0001, verbose=0, warm_start=False)\n",
      "Feature set:  ['text_feats', 'length_feats', 'argumentation_feats', 'COMMENTIQ_feats', 'named_entity_feats', 'constructiveness_chars_feats', 'non_constructiveness_chars_feats', 'toxicity_chars_feats', 'perspective_content_value_feats', 'perspective_aggressiveness_feats', 'perspecitive_toxicity_feats']\n"
     ]
    },
    {
     "data": {
      "text/plain": [
       "{'mean_score': 0.7976293254131059,\n",
       " 'scores': array([0.808     , 0.8       , 0.76190476, 0.76724138, 0.77821012,\n",
       "        0.808     , 0.78294574, 0.77235772, 0.85057471, 0.84705882]),\n",
       " 'variance': 0.0008898250210476555}"
      ]
     },
     "execution_count": 29,
     "metadata": {},
     "output_type": "execute_result"
    }
   ],
   "source": [
    "run_cross_validation_experiments(SOCC_df_subset, Config.FEATURE_SETS)"
   ]
  },
  {
   "cell_type": "markdown",
   "metadata": {},
   "source": [
    "# Error analysis "
   ]
  },
  {
   "cell_type": "markdown",
   "metadata": {},
   "source": [
    "# Get wrong predictions and write them in a CSV for error analysis"
   ]
  },
  {
   "cell_type": "code",
   "execution_count": 30,
   "metadata": {},
   "outputs": [
    {
     "name": "stdout",
     "output_type": "stream",
     "text": [
      "Classifier:  SGDClassifier(alpha=0.001, average=False, class_weight=None, epsilon=0.1,\n",
      "       eta0=0.0, fit_intercept=True, l1_ratio=0.15,\n",
      "       learning_rate='optimal', loss='hinge', max_iter=50, n_iter=None,\n",
      "       n_jobs=1, penalty='l2', power_t=0.5, random_state=42, shuffle=True,\n",
      "       tol=0.0001, verbose=0, warm_start=False)\n",
      "Feature set:  ['text_feats', 'length_feats', 'argumentation_feats', 'COMMENTIQ_feats', 'named_entity_feats', 'constructiveness_chars_feats', 'non_constructiveness_chars_feats', 'toxicity_chars_feats', 'perspective_content_value_feats', 'perspective_aggressiveness_feats', 'perspecitive_toxicity_feats']\n"
     ]
    }
   ],
   "source": [
    "predicted, X_train, y_train = wrong_predictions_from_cross_validation(SOCC_df, Config.FEATURE_SETS)"
   ]
  },
  {
   "cell_type": "code",
   "execution_count": 31,
   "metadata": {},
   "outputs": [],
   "source": [
    "se = pd.Series(predicted)"
   ]
  },
  {
   "cell_type": "code",
   "execution_count": 32,
   "metadata": {},
   "outputs": [],
   "source": [
    "X_train['Connstructive_gold'] = y_train"
   ]
  },
  {
   "cell_type": "code",
   "execution_count": 33,
   "metadata": {},
   "outputs": [],
   "source": [
    "X_train['Constructive_predicted'] = se.values"
   ]
  },
  {
   "cell_type": "code",
   "execution_count": 34,
   "metadata": {},
   "outputs": [],
   "source": [
    "X_train = X_train.sort_values(['Connstructive_gold', 'Constructive_predicted'], ascending=[1, 1])"
   ]
  },
  {
   "cell_type": "code",
   "execution_count": 35,
   "metadata": {},
   "outputs": [],
   "source": [
    "X_train_wrong = X_train[X_train['Connstructive_gold'] != X_train['Constructive_predicted']]"
   ]
  },
  {
   "cell_type": "code",
   "execution_count": 36,
   "metadata": {},
   "outputs": [],
   "source": [
    "X_train_wrong = X_train_wrong.sort_values(['Connstructive_gold', 'Constructive_predicted'], ascending=[1, 1])"
   ]
  },
  {
   "cell_type": "code",
   "execution_count": 39,
   "metadata": {},
   "outputs": [],
   "source": [
    "cols = ['pp_comment_text', 'Connstructive_gold', 'Constructive_predicted', 'source', 'crowd_toxicity_level'] + Config.ALL_FEATURES "
   ]
  },
  {
   "cell_type": "code",
   "execution_count": 40,
   "metadata": {},
   "outputs": [
    {
     "name": "stderr",
     "output_type": "stream",
     "text": [
      "/home/vkolhatk/.local/lib/python3.5/site-packages/pandas/io/formats/format.py:1586: FutureWarning: \n",
      "Passing list-likes to .loc or [] with any missing label will raise\n",
      "KeyError in the future, you can use .reindex() as an alternative.\n",
      "\n",
      "See the documentation here:\n",
      "http://pandas.pydata.org/pandas-docs/stable/indexing.html#deprecate-loc-reindex-listlike\n",
      "  self.obj = self.obj.loc[:, cols]\n",
      "/home/vkolhatk/.local/lib/python3.5/site-packages/pandas/core/indexing.py:1367: FutureWarning: \n",
      "Passing list-likes to .loc or [] with any missing label will raise\n",
      "KeyError in the future, you can use .reindex() as an alternative.\n",
      "\n",
      "See the documentation here:\n",
      "http://pandas.pydata.org/pandas-docs/stable/indexing.html#deprecate-loc-reindex-listlike\n",
      "  return self._getitem_tuple(key)\n"
     ]
    }
   ],
   "source": [
    "X_train_wrong.to_csv(Config.RESULTS_PATH + 'SVM_wrong_predictions.csv', columns = cols, index = False)"
   ]
  },
  {
   "cell_type": "code",
   "execution_count": 41,
   "metadata": {},
   "outputs": [
    {
     "name": "stderr",
     "output_type": "stream",
     "text": [
      "/home/vkolhatk/.local/lib/python3.5/site-packages/pandas/io/formats/format.py:1586: FutureWarning: \n",
      "Passing list-likes to .loc or [] with any missing label will raise\n",
      "KeyError in the future, you can use .reindex() as an alternative.\n",
      "\n",
      "See the documentation here:\n",
      "http://pandas.pydata.org/pandas-docs/stable/indexing.html#deprecate-loc-reindex-listlike\n",
      "  self.obj = self.obj.loc[:, cols]\n",
      "/home/vkolhatk/.local/lib/python3.5/site-packages/pandas/core/indexing.py:1367: FutureWarning: \n",
      "Passing list-likes to .loc or [] with any missing label will raise\n",
      "KeyError in the future, you can use .reindex() as an alternative.\n",
      "\n",
      "See the documentation here:\n",
      "http://pandas.pydata.org/pandas-docs/stable/indexing.html#deprecate-loc-reindex-listlike\n",
      "  return self._getitem_tuple(key)\n"
     ]
    }
   ],
   "source": [
    "X_train.to_csv(Config.RESULTS_PATH + 'SVM_predictions.csv', columns = cols, index = False)"
   ]
  },
  {
   "cell_type": "code",
   "execution_count": null,
   "metadata": {},
   "outputs": [],
   "source": []
  },
  {
   "cell_type": "code",
   "execution_count": null,
   "metadata": {},
   "outputs": [],
   "source": []
  },
  {
   "cell_type": "code",
   "execution_count": null,
   "metadata": {},
   "outputs": [],
   "source": []
  },
  {
   "cell_type": "code",
   "execution_count": null,
   "metadata": {},
   "outputs": [],
   "source": []
  }
 ],
 "metadata": {
  "kernelspec": {
   "display_name": "Python 3",
   "language": "python",
   "name": "python3"
  },
  "language_info": {
   "codemirror_mode": {
    "name": "ipython",
    "version": 3
   },
   "file_extension": ".py",
   "mimetype": "text/x-python",
   "name": "python",
   "nbconvert_exporter": "python",
   "pygments_lexer": "ipython3",
   "version": "3.5.4"
  }
 },
 "nbformat": 4,
 "nbformat_minor": 2
}
